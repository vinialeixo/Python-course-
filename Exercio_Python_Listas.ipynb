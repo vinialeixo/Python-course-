{
  "nbformat": 4,
  "nbformat_minor": 0,
  "metadata": {
    "colab": {
      "name": "Exercio_Python_Listas.ipynb",
      "provenance": [],
      "authorship_tag": "ABX9TyOqtecnkc/CX+j3UnRw86i/",
      "include_colab_link": true
    },
    "kernelspec": {
      "name": "python3",
      "display_name": "Python 3"
    }
  },
  "cells": [
    {
      "cell_type": "markdown",
      "metadata": {
        "id": "view-in-github",
        "colab_type": "text"
      },
      "source": [
        "<a href=\"https://colab.research.google.com/github/vinialeixo/Python-course-/blob/main/Exercio_Python_Listas.ipynb\" target=\"_parent\"><img src=\"https://colab.research.google.com/assets/colab-badge.svg\" alt=\"Open In Colab\"/></a>"
      ]
    },
    {
      "cell_type": "code",
      "metadata": {
        "id": "GukT5xzbLn2N"
      },
      "source": [
        "\"\"\"Faça um program que leia 5 valores numeros e guarde os em uma lista. \r\n",
        "No final, mostre qual foi o maior valor e o menor valor digitado, e as suas respectivas posições\"\"\"\r\n",
        "valores=[]\r\n",
        "for cont in range(0,5):\r\n",
        "  valores.append(int(input('Digite um numero:')))\r\n",
        "print('O maior número é {}'.format(max(valores)))\r\n",
        "for c, v in enumerate(valores):\r\n",
        "   if v == (valores):\r\n",
        "    print('Posição {}'.format(c))\r\n",
        "print('O menor valor é {}'.format(min(valores)))\r\n",
        "for c, v in enumerate(valores):\r\n",
        "   if v == min(valores):\r\n",
        "    print('Posição {}'.format(c))"
      ],
      "execution_count": null,
      "outputs": []
    },
    {
      "cell_type": "code",
      "metadata": {
        "id": "l10iqPpQ_HMz"
      },
      "source": [
        "\"\"\"Crie um programa onde o usuário possa digitar vários valores numéricos e cadastre-os em uma lista. Caso o número já exista lá dentro, ele\r\n",
        "não será adicionado. No final, serão exibidos todos os valores únicos digitados, em ordem crescente\"\"\"\r\n",
        "numeros=[]\r\n",
        "while True:\r\n",
        "  n=int(input('Digite o número: '))\r\n",
        "  if n not in numeros:\r\n",
        "    numeros.append(n)\r\n",
        "    print('Valor adicionado')\r\n",
        "  else:\r\n",
        "    print('Valor duplicado!')\r\n",
        "  r=str(input('Quer continuar? s/n'))\r\n",
        "  if r in 'Nn':\r\n",
        "    break\r\n",
        "numeros.sort()\r\n",
        "print('Você digitou os valores {}'.format(numeros))"
      ],
      "execution_count": null,
      "outputs": []
    },
    {
      "cell_type": "code",
      "metadata": {
        "id": "vP6e52HTqHQl"
      },
      "source": [
        "\"\"\"Crie um programa onde o usuário possa digitar cinco valores numéricos e cadastre-os em uma lista,\r\n",
        "já na posição correta de inserção (sem usar o sort()) No final, mostre a lista ordena na tela\"\"\"\r\n",
        "listanum=[]\r\n",
        "for c in range(0,5):\r\n",
        "  p=int(input('Digite o número: '))\r\n",
        "  for c,valor in enumerate(listanum):\r\n",
        "    if p<valor:\r\n",
        "      listanum.insert(c,p)\r\n",
        "      break\r\n",
        "  else:\r\n",
        "    listanum.append(p)\r\n",
        "print(listanum)"
      ],
      "execution_count": null,
      "outputs": []
    },
    {
      "cell_type": "code",
      "metadata": {
        "id": "YH-BXfPrQZLG"
      },
      "source": [
        "\"\"\"Crie um programa que vai ler vários números e colocar em uma lista.\r\n",
        "Depois disso, mostra:\r\n",
        "a-Quantos números foram digitados\r\n",
        "b-A lista de valores, ordenada de forma drecrescente\r\n",
        "c-Se o valor 5 foi digitado e está ou não na lista\r\n",
        "\"\"\"\r\n",
        "valores=[]\r\n",
        "c=0\r\n",
        "while True:\r\n",
        "  n=int(input('Digite o número: '))\r\n",
        "  if n==5:\r\n",
        "    c=c+1\r\n",
        "  valores.append(n)\r\n",
        "  q=str(input('Quer continuar? [S/N]'))\r\n",
        "  if q in 'Nn':\r\n",
        "     break\r\n",
        "\r\n",
        "print('---'*30)\r\n",
        "print('Você digitou {} elementos'.format(len(valores))) \r\n",
        "print('Os valores digitados em ordem decrescente são {}'.format(sorted(valores,reverse=True)))\r\n",
        "print('O valor 5 aparece {} vezes'.format(c))\r\n",
        "\r\n",
        "\r\n"
      ],
      "execution_count": null,
      "outputs": []
    },
    {
      "cell_type": "code",
      "metadata": {
        "id": "8Wc7S4U0o0OP"
      },
      "source": [
        "compras=[]\r\n",
        "while True:\r\n",
        "  produto=input('Produto: ')\r\n",
        "  if produto=='fim':\r\n",
        "    break\r\n",
        "  quantidade=int(input('Qtde: '))\r\n",
        "  preço=float(input('Preço: '))\r\n",
        "  compras.append([produto,quantidade,preço])\r\n",
        "print(compras)"
      ],
      "execution_count": null,
      "outputs": []
    },
    {
      "cell_type": "code",
      "metadata": {
        "id": "biZU37x3WZEs"
      },
      "source": [
        "\"\"\"Crie um programa que vai ler vários números e colocar em uma lista.\r\n",
        "Depois disso, crie duas listas extras que vão conter apenas os valores pares e os valores impares digitados, respectivamente.\r\n",
        "Ao final, mostre o conteúdo das três listas geradas.\r\n",
        "\"\"\"\r\n",
        "valores=[]\r\n",
        "par=[]\r\n",
        "impar=[]\r\n",
        "c=0\r\n",
        "while True:\r\n",
        "    valores.append(int(input('Digite o número: ')))\r\n",
        "    p=str(input('Deseja continuar?[S/N] '))\r\n",
        "    if p in 'Nn':\r\n",
        "       break\r\n",
        "print('-'*50)\r\n",
        "\r\n",
        "print(valores)\r\n",
        "for num in valores:\r\n",
        "     if num%2==0:\r\n",
        "       par.append(num)\r\n",
        "     else:\r\n",
        "       impar.append(num)\r\n",
        "print('A lista par é {}'.format(par))\r\n",
        "print('A lista impar é {}'.format(impar))"
      ],
      "execution_count": null,
      "outputs": []
    }
  ]
}