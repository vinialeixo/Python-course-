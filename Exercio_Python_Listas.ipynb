{
  "nbformat": 4,
  "nbformat_minor": 0,
  "metadata": {
    "colab": {
      "name": "Exercio_Python_Listas.ipynb",
      "provenance": [],
      "authorship_tag": "ABX9TyM8MkvTfS/x/cgoTh2VgOBi"
    },
    "kernelspec": {
      "name": "python3",
      "display_name": "Python 3"
    }
  },
  "cells": [
    {
      "cell_type": "code",
      "metadata": {
        "id": "GukT5xzbLn2N",
        "colab": {
          "base_uri": "https://localhost:8080/"
        },
        "outputId": "759f63fe-a0e3-46a1-a1a6-a752b2e3b3de"
      },
      "source": [
        "\"\"\"Faça um program que leia 5 valores numeros e guarde os em uma lista. \r\n",
        "No final, mostre qual foi o maior valor e o menor valor digitado, e as suas respectivas posições\"\"\"\r\n",
        "valores=[]\r\n",
        "for cont in range(0,5):\r\n",
        "  valores.append(int(input('Digite um numero:')))\r\n",
        "print('O maior número é {}'.format(max(valores)))\r\n",
        "for c, v in enumerate(valores):\r\n",
        "   if v == (valores):\r\n",
        "    print('Posição {}'.format(c))\r\n",
        "print('O menor valor é {}'.format(min(valores)))\r\n",
        "for c, v in enumerate(valores):\r\n",
        "   if v == min(valores):\r\n",
        "    print('Posição {}'.format(c))"
      ],
      "execution_count": null,
      "outputs": [
        {
          "output_type": "stream",
          "text": [
            "Digite um numero:4\n",
            "Digite um numero:1\n",
            "Digite um numero:2\n",
            "Digite um numero:3\n",
            "Digite um numero:5\n",
            "O maior número é 5\n",
            "Posição 4\n",
            "O menor valor é 1\n",
            "Posição 1\n"
          ],
          "name": "stdout"
        }
      ]
    },
    {
      "cell_type": "code",
      "metadata": {
        "colab": {
          "base_uri": "https://localhost:8080/"
        },
        "id": "l10iqPpQ_HMz",
        "outputId": "fcab003e-438f-4782-efdc-fb6c53a42f2c"
      },
      "source": [
        "\"\"\"Crie um programa onde o usuário possa digitar vários valores numéricos e cadastre-os em uma lista. Caso o número já exista lá dentro, ele\r\n",
        "não será adicionado. No final, serão exibidos todos os valores únicos digitados, em ordem crescente\"\"\"\r\n",
        "numeros=[]\r\n",
        "while True:\r\n",
        "  n=int(input('Digite o número: '))\r\n",
        "  if n not in numeros:\r\n",
        "    numeros.append(n)\r\n",
        "    print('Valor adicionado')\r\n",
        "  else:\r\n",
        "    print('Valor duplicado!')\r\n",
        "  r=str(input('Quer continuar? s/n'))\r\n",
        "  if r in 'Nn':\r\n",
        "    break\r\n",
        "numeros.sort()\r\n",
        "print('Você digitou os valores {}'.format(numeros))"
      ],
      "execution_count": null,
      "outputs": [
        {
          "output_type": "stream",
          "text": [
            "Digite o numero: 10\n",
            "Valor adicionado\n",
            "Quer continuar? s/ns\n",
            "Digite o numero: 10\n",
            "Valor duplicado!\n",
            "Quer continuar? s/n9\n",
            "Digite o numero: 199\n",
            "Valor adicionado\n",
            "Quer continuar? s/ns\n",
            "Digite o numero: 19999\n",
            "Valor adicionado\n",
            "Quer continuar? s/n1\n",
            "Digite o numero: 1\n",
            "Valor adicionado\n",
            "Quer continuar? s/nn\n",
            "Você digitou os valores [1, 10, 199, 19999]\n"
          ],
          "name": "stdout"
        }
      ]
    }
  ]
}