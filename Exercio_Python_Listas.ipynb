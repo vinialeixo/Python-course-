{
  "nbformat": 4,
  "nbformat_minor": 0,
  "metadata": {
    "colab": {
      "name": "Exxercio_Python_Listas.ipynb",
      "provenance": [],
      "authorship_tag": "ABX9TyMhIVyhqomvNdZs0SOozb8q"
    },
    "kernelspec": {
      "name": "python3",
      "display_name": "Python 3"
    }
  },
  "cells": [
    {
      "cell_type": "code",
      "metadata": {
        "id": "GukT5xzbLn2N"
      },
      "source": [
        "\"\"\"Faça um program que leia 5 valores numeros e guarde os em uma lista. \r\n",
        "No final, mostre qual foi o maior valor e o menor valor digitado, e as suas respectivas posições\"\"\"\r\n",
        "valores=[]\r\n",
        "for cont in range(0,5):\r\n",
        "  valores.append(int(input('Digite um numero:')))\r\n",
        "print('O maior número é {}'.format(max(valores)))\r\n",
        "for c, v in enumerate(valores):\r\n",
        "   if v == max(valores):\r\n",
        "    print('Posição {}'.format(c))\r\n",
        "print('O menor valor é {}'.format(min(valores)))\r\n",
        "for c, v in enumerate(valores):\r\n",
        "   if v == min(valores):\r\n",
        "    print('Posição {}'.format(c))"
      ],
      "execution_count": null,
      "outputs": []
    }
  ]
}