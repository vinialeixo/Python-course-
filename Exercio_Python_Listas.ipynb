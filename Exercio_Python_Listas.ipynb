{
  "nbformat": 4,
  "nbformat_minor": 0,
  "metadata": {
    "colab": {
      "name": "Exercio_Python_Listas.ipynb",
      "provenance": [],
      "authorship_tag": "ABX9TyPfp1zYkIqqFdKaotaMt1hD",
      "include_colab_link": true
    },
    "kernelspec": {
      "name": "python3",
      "display_name": "Python 3"
    }
  },
  "cells": [
    {
      "cell_type": "markdown",
      "metadata": {
        "id": "view-in-github",
        "colab_type": "text"
      },
      "source": [
        "<a href=\"https://colab.research.google.com/github/vinialeixo/Python-course-/blob/main/Exercio_Python_Listas.ipynb\" target=\"_parent\"><img src=\"https://colab.research.google.com/assets/colab-badge.svg\" alt=\"Open In Colab\"/></a>"
      ]
    },
    {
      "cell_type": "code",
      "metadata": {
        "id": "GukT5xzbLn2N"
      },
      "source": [
        "\"\"\"Faça um program que leia 5 valores numeros e guarde os em uma lista. \r\n",
        "No final, mostre qual foi o maior valor e o menor valor digitado, e as suas respectivas posições\"\"\"\r\n",
        "valores=[]\r\n",
        "for cont in range(0,5):\r\n",
        "  valores.append(int(input('Digite um numero:')))\r\n",
        "print('O maior número é {}'.format(max(valores)))\r\n",
        "for c, v in enumerate(valores):\r\n",
        "   if v == (valores):\r\n",
        "    print('Posição {}'.format(c))\r\n",
        "print('O menor valor é {}'.format(min(valores)))\r\n",
        "for c, v in enumerate(valores):\r\n",
        "   if v == min(valores):\r\n",
        "    print('Posição {}'.format(c))"
      ],
      "execution_count": null,
      "outputs": []
    },
    {
      "cell_type": "code",
      "metadata": {
        "id": "l10iqPpQ_HMz"
      },
      "source": [
        "\"\"\"Crie um programa onde o usuário possa digitar vários valores numéricos e cadastre-os em uma lista. Caso o número já exista lá dentro, ele\r\n",
        "não será adicionado. No final, serão exibidos todos os valores únicos digitados, em ordem crescente\"\"\"\r\n",
        "numeros=[]\r\n",
        "while True:\r\n",
        "  n=int(input('Digite o número: '))\r\n",
        "  if n not in numeros:\r\n",
        "    numeros.append(n)\r\n",
        "    print('Valor adicionado')\r\n",
        "  else:\r\n",
        "    print('Valor duplicado!')\r\n",
        "  r=str(input('Quer continuar? s/n'))\r\n",
        "  if r in 'Nn':\r\n",
        "    break\r\n",
        "numeros.sort()\r\n",
        "print('Você digitou os valores {}'.format(numeros))"
      ],
      "execution_count": null,
      "outputs": []
    },
    {
      "cell_type": "code",
      "metadata": {
        "colab": {
          "base_uri": "https://localhost:8080/"
        },
        "id": "vP6e52HTqHQl",
        "outputId": "1fb9ad23-b7c1-451b-bcc0-f0a5842c8dac"
      },
      "source": [
        "\"\"\"Crie um programa onde o usuário possa digitar cinco valores numéricos e cadastre-os em uma lista,\r\n",
        "já na posição correta de inserção (sem usar o sort()) No final, mostre a lista ordena na tela\"\"\"\r\n",
        "listanum=[]\r\n",
        "for c in range(0,5):\r\n",
        "  p=int(input('Digite o número: '))\r\n",
        "  for c,valor in enumerate(listanum):\r\n",
        "    if p<valor:\r\n",
        "      listanum.insert(c,p)\r\n",
        "      break\r\n",
        "  else:\r\n",
        "    listanum.append(p)\r\n",
        "print(listanum)"
      ],
      "execution_count": 12,
      "outputs": [
        {
          "output_type": "stream",
          "text": [
            "Digite o número: 5\n",
            "Digite o número: 9\n",
            "Digite o número: 1\n",
            "Digite o número: 10\n",
            "Digite o número: 2\n",
            "[1, 2, 5, 9, 10]\n"
          ],
          "name": "stdout"
        }
      ]
    }
  ]
}