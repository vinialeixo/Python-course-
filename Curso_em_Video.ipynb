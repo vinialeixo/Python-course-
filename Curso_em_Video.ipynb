{
  "nbformat": 4,
  "nbformat_minor": 0,
  "metadata": {
    "colab": {
      "name": "Curso em Video.ipynb",
      "provenance": [],
      "authorship_tag": "ABX9TyOmornQsEqh1U8R+5fOpULa",
      "include_colab_link": true
    },
    "kernelspec": {
      "name": "python3",
      "display_name": "Python 3"
    }
  },
  "cells": [
    {
      "cell_type": "markdown",
      "metadata": {
        "id": "view-in-github",
        "colab_type": "text"
      },
      "source": [
        "<a href=\"https://colab.research.google.com/github/vinialeixo/Python-course-/blob/main/Curso_em_Video.ipynb\" target=\"_parent\"><img src=\"https://colab.research.google.com/assets/colab-badge.svg\" alt=\"Open In Colab\"/></a>"
      ]
    },
    {
      "cell_type": "code",
      "metadata": {
        "id": "u_degoksIlAq"
      },
      "source": [
        "#Aula06\n",
        "n1=int(input('Digite um valor:'))\n",
        "n2=int(input('igite um outro valor'))\n",
        "s=n1+n2\n",
        "print('A soma entre {0} e {1} vale  {2}'.format(n1,n2,s))\n",
        "\n"
      ],
      "execution_count": null,
      "outputs": []
    },
    {
      "cell_type": "code",
      "metadata": {
        "id": "gHbsLG_Ggpe8"
      },
      "source": [
        "energia=float(input('Digite a quantidade de Kwh:'))\n",
        "tipo= input('Digite o tipo de instalação: \\n [1]- Residências \\n [2]- Comercial \\n [3]- Indutrial \\n ')\n",
        "preço=0\n",
        "if tipo==1:\n",
        "  if energia<=500:\n",
        "     conta=energia*0.4\n",
        "  else:\n",
        "     conta=energia*0.65\n",
        "print('Sua conta será de {}'.format(preço))"
      ],
      "execution_count": null,
      "outputs": []
    },
    {
      "cell_type": "code",
      "metadata": {
        "id": "YwJO4R1YPKkB"
      },
      "source": [
        "#exercicio06\n",
        "n1=int(input('Digite um valor:'))\n",
        "n2=int(input('Digite um valor:'))\n",
        "n3=int(input('Digite um valor:'))\n",
        "s=n1+n2+n3\n",
        "print('A soma entre {} o segundo valor {} e o tercerico {} vale {}'.format(n1,n2,n3,s))"
      ],
      "execution_count": null,
      "outputs": []
    },
    {
      "cell_type": "code",
      "metadata": {
        "id": "sa3KDWrMTpK-"
      },
      "source": [
        "#Aula07"
      ],
      "execution_count": null,
      "outputs": []
    },
    {
      "cell_type": "code",
      "metadata": {
        "id": "RQn7TiJ_Z27a"
      },
      "source": [
        "n1=int(input('Um valor:'))\n",
        "n2=int(input('Um valor:'))\n",
        "m=n1*n2\n",
        "d=n1/n2\n",
        "di=n1//n2\n",
        "e=n1**n2\n",
        "print('O produto é {},\\n e a divisão é {:.3f}'.format(m,d), end=' ')\n",
        "print('Divisão inteira {} \\n e potencia {}'.format(di,e))"
      ],
      "execution_count": null,
      "outputs": []
    },
    {
      "cell_type": "code",
      "metadata": {
        "id": "eLHfSB4D58xY"
      },
      "source": [
        "#Desafio05Aula7\n",
        "#print('Faça um programa que leia um número inteiro e mostre seu sucessor e seu antecessor\\n')\n",
        "num=int(input('Digite o número:'))\n",
        "su=num+1\n",
        "ant=num-1\n",
        "print('O sucessor do número {} é {} e o antecessor {}'.format(num,su,ant))"
      ],
      "execution_count": null,
      "outputs": []
    },
    {
      "cell_type": "code",
      "metadata": {
        "id": "z8Ip-DiL74wv"
      },
      "source": [
        "#Desafio06Aula7\n",
        "#print('Crie um algoritmo que leia um número e mostre o seu dobro, triplo e raiz quadrada\\n')\n",
        "num=int(input('Digite um número:'))\n",
        "dob=num*2\n",
        "trp=num*3\n",
        "rz=num**1/2\n",
        "print('O valor do dobro é {}, do triplo é {} e a raiz {}'.format(dob,trp,rz))"
      ],
      "execution_count": null,
      "outputs": []
    },
    {
      "cell_type": "code",
      "metadata": {
        "id": "NPqZk_i2-zOa"
      },
      "source": [
        "#Desafio07Aula7\n",
        "#print('\\nDesenvolva um programa que leia as duas notas de um alino, calcule e mostre a sua média.')\n",
        "not1=float(input('Digite primeira nota:'))\n",
        "not2=float(input('Digite a outra nota:'))\n",
        "med=(not1+not2)/2\n",
        "print('A sua média é {:.1f}'.format(med))"
      ],
      "execution_count": null,
      "outputs": []
    },
    {
      "cell_type": "code",
      "metadata": {
        "id": "UE0EVpVGBrlC"
      },
      "source": [
        "#Desafio08Aula7\n",
        "#print('\\nEscreva um programa que leia um valor em metros e o exiba convertido em cm e milimetros.')\n",
        "met=float(input('Digite o valor em metro:'))\n",
        "cm=met*100\n",
        "mil=met*1000\n",
        "print('O valor em metro digitado {} ,equivale a {:.0f} cm \\n e {:.0f} mil'.format(met,cm,mil))"
      ],
      "execution_count": null,
      "outputs": []
    },
    {
      "cell_type": "code",
      "metadata": {
        "id": "AFN8PypyDI0j",
        "colab": {
          "base_uri": "https://localhost:8080/"
        },
        "outputId": "36b14576-dc34-4e90-f449-a572311264db"
      },
      "source": [
        "#Desafio09Aula7\n",
        "#print('\\nFaça um programa que leia um número inteiro e mostre a sua tabuada.')\n",
        "num=int(input('Digite o númeor:'))\n",
        "tb0=num*0\n",
        "tb1=num*1\n",
        "tb2=num*2\n",
        "tb3=num*3\n",
        "tb4=num*4\n",
        "tb5=num*5\n",
        "tb6=num*6\n",
        "tb7=num*7\n",
        "tb8=num*8\n",
        "tb9=num*9\n",
        "tb10=num*10\n",
        "print('A tabuada do número {} é\\n {}\\n {}\\n {}\\n {}\\n {}\\n {}\\n {}\\n {}\\n {}\\n {}\\n {}'.format(num,tb0,tb1,tb2,tb3,tb4,tb5,tb6,tb7,tb8,tb9,tb10))"
      ],
      "execution_count": null,
      "outputs": [
        {
          "output_type": "stream",
          "text": [
            "Digite o númeor:10\n",
            "A tabuada do número 10 é\n",
            " 0\n",
            " 10\n",
            " 20\n",
            " 30\n",
            " 40\n",
            " 50\n",
            " 60\n",
            " 70\n",
            " 80\n",
            " 90\n",
            " 100\n"
          ],
          "name": "stdout"
        }
      ]
    },
    {
      "cell_type": "code",
      "metadata": {
        "id": "iXbApXwUEfS6"
      },
      "source": [
        "#Desafio09Aula7\n",
        "#print('\\nFaça um programa que leia um número inteiro e mostre a sua tabuada.') # MELHORZINHO\n",
        "num=int(input('Digite o númeor:'))\n",
        "print('--'*12)\n",
        "counter=0\n",
        "tab=10\n",
        "while counter<=tab:\n",
        "  res=num+counter\n",
        "  print('{} * {}'.format (num,counter,res))\n",
        "  counter+=1"
      ],
      "execution_count": null,
      "outputs": []
    },
    {
      "cell_type": "code",
      "metadata": {
        "id": "rpegW5WlGwcF"
      },
      "source": [
        "#Desafio11Aula7\n",
        "#print('\\nFaça um programa que leia a altura e largura de uma parede em metros, calcule sua área a quantidade necessária de \\ntinta para pintá-la, sabendo qeu cada litro de tinta pinta uma área de 2m²')\n",
        "alt=float(input('Digite a altura (m):'))\n",
        "lar=float(input('Digite a largura (m'))\n",
        "ar=alt*lar\n",
        "tin=(ar/2)\n",
        "print('De acordo com á area de {:.0f}, a quantidade de tinta ser usada é {:.0f} litros'.format(ar,tin))\n"
      ],
      "execution_count": null,
      "outputs": []
    },
    {
      "cell_type": "code",
      "metadata": {
        "id": "sElt-xcaQuDU"
      },
      "source": [
        "#Aula8\n",
        "from math import sqrt,floor\n",
        "num=int(input('Digite um número:'))\n",
        "raiz=sqrt(num)\n",
        "print('A raiz de {} é igual a {:.2f}'.format(num, raiz))\n"
      ],
      "execution_count": null,
      "outputs": []
    },
    {
      "cell_type": "code",
      "metadata": {
        "id": "IxgPj95dbeex"
      },
      "source": [
        "#aula8 - número aleatorio (0-1)\n",
        "import random\n",
        "num=random.random()\n",
        "print(num)"
      ],
      "execution_count": null,
      "outputs": []
    },
    {
      "cell_type": "code",
      "metadata": {
        "id": "0VSO64JcbwrT"
      },
      "source": [
        "#aula8 - número aleatorio \n",
        "import random\n",
        "num=random.randint(1,10) #número inteiro\n",
        "print(num)"
      ],
      "execution_count": null,
      "outputs": []
    },
    {
      "cell_type": "code",
      "metadata": {
        "id": "avBAT1wBoiuN"
      },
      "source": [
        "#Desafio16aula8\n",
        "#print('Crie um programa que leia um número real pelo teclado e mostre na sua tela a sua porção inteira')\n",
        "from math import trunc\n",
        "num=float(input('Digite um número:'))\n",
        "\n",
        "print('O inteiro do número {} é {}'.format(num,trunc(num)))"
      ],
      "execution_count": null,
      "outputs": []
    },
    {
      "cell_type": "code",
      "metadata": {
        "id": "4kpJanOXp43x"
      },
      "source": [
        "#Desafio17aula8\n",
        "#faça um programa que leia o comprimento do cateto oposto e do cateto adjacente de um triangulo, calcule e mostre a hipotenusa\n",
        "from math import hypot\n",
        "cato=float(input('Escreva o cateto oposto:'))\n",
        "cata=float(input('Escreva o cateto adjacente:'))\n",
        "hi=hypot(cato,cata)\n",
        "print('A hipotenusa será {}'.format(hi))\n",
        "\n"
      ],
      "execution_count": null,
      "outputs": []
    },
    {
      "cell_type": "code",
      "metadata": {
        "id": "AJwcb88rLybM"
      },
      "source": [
        "#Desafio20aula8\n",
        "#Faça um programa que ajude ele, lendo o nome dos alunos e escrevendo na tela o nome do escolhido.\n",
        "import random\n",
        "#ps=('Wandson Ramos','Gabriel Cesar','Caio Rego','Fred','Vini' )\n",
        "n1=input('Digite o nome:')\n",
        "n2=input('Digite o nome:')\n",
        "n3=input('Digite o nome:')\n",
        "n4=input('Digite o nome:')\n",
        "n5=input('Digite o nome:')\n",
        "lista=[n1,n2,n3,n4,n5]\n",
        "random.shuffle(lista)\n",
        "print('A lista será')\n",
        "print(lista)"
      ],
      "execution_count": null,
      "outputs": []
    },
    {
      "cell_type": "code",
      "metadata": {
        "id": "AL1HP0VCQrIY"
      },
      "source": [
        "#Aula09-Estrutura palavras\n",
        " #len:Tamanho\n",
        " #count: conte\n",
        " #find:procurar\n",
        " #in:dentro  \n",
        " #replace:substituir palavra\n",
        " #upper:deixa tudo maiusculo\n",
        " #lower:deixa tudo minusculo\n",
        " #capitalize: deixa a primeira letra maiuscula\n",
        " #title: transforma primeira letra maiuscula\n",
        " #strip:remove espaços inuteis\n",
        " #rstrip:remove só lado direito\n",
        " #lstrip:remove só lado esquerdo\n",
        " #split:dividi onde tem espaço, cria uma lista dos caracteres\n",
        " #join:'-'.join juntar onde estava separado\n",
        "\n"
      ],
      "execution_count": null,
      "outputs": []
    },
    {
      "cell_type": "code",
      "metadata": {
        "id": "8klufbiBzV68",
        "colab": {
          "base_uri": "https://localhost:8080/",
          "height": 34
        },
        "outputId": "381a7880-cfae-407f-9f39-c65ebc16ee04"
      },
      "source": [
        "frase='Curso em Vídeo em Python'\n",
        "frase=(frase.replace('Python','Android'))\n",
        "print(frase.replace('Python','Android'))"
      ],
      "execution_count": null,
      "outputs": [
        {
          "output_type": "stream",
          "text": [
            "Curso em Vídeo em Android\n"
          ],
          "name": "stdout"
        }
      ]
    },
    {
      "cell_type": "code",
      "metadata": {
        "id": "IlZ0bhemxBVH",
        "colab": {
          "base_uri": "https://localhost:8080/",
          "height": 51
        },
        "outputId": "1e985898-51ed-413b-bfb8-dab40c16d06f"
      },
      "source": [
        "msg='Welcome to Python 101: Strings'\n",
        "msg1=msg[-10]+' '+msg[0:8]+''+msg[-5:-1]+' '+msg[8:11]+''+('Tyler')\n",
        "print(msg1.title())\n",
        "print(msg1[::-1].title())"
      ],
      "execution_count": null,
      "outputs": [
        {
          "output_type": "stream",
          "text": [
            "1 Welcome Ring To Tyler\n",
            "Relyt Ot Gnir Emoclew 1\n"
          ],
          "name": "stdout"
        }
      ]
    },
    {
      "cell_type": "code",
      "metadata": {
        "id": "C44Uv-28pDLB",
        "colab": {
          "base_uri": "https://localhost:8080/",
          "height": 34
        },
        "outputId": "23bb3d92-23ca-4616-ebc5-1a358f4d1e59"
      },
      "source": [
        "msg='Hint: Google is your frien...'\n",
        "\n",
        "print(msg[::-1].title())"
      ],
      "execution_count": null,
      "outputs": [
        {
          "output_type": "stream",
          "text": [
            "...Neirf Ruoy Si Elgoog :Tnih\n"
          ],
          "name": "stdout"
        }
      ]
    },
    {
      "cell_type": "code",
      "metadata": {
        "id": "h3d7OVEisCyZ"
      },
      "source": [
        "#Desafio22aula9\n",
        "nome=input('Qual é o seu nome (inteiro):')\n",
        "mai=nome.upper()\n",
        "min=nome.lower()\n",
        "junt = ''.join(nome)\n",
        "num=len(junt)\n",
        "qnt=counter(nome[0:5])\n",
        "\n",
        "print('Seu nome {} maiusculo fica {}'.format(nome,mai))\n",
        "print('e minusculo fica, {}'.format(min))\n",
        "print('A quantidade de letras s/ espaço é {}'.format(num))\n",
        "print('A quantidade do seu primeiro nome é {}'.format(qnt))"
      ],
      "execution_count": null,
      "outputs": []
    },
    {
      "cell_type": "code",
      "metadata": {
        "id": "91VaxSnvNjEX",
        "colab": {
          "base_uri": "https://localhost:8080/",
          "height": 85
        },
        "outputId": "acf7230d-0868-4fc0-b9fd-368b2cc716b1"
      },
      "source": [
        "#Desafio22aula9 - MELHORADO \n",
        "nome=str(input('Qual é o seu nome (inteiro):')).strip()\n",
        "print('Seu nome {} maiusculo fica {}'.format(nome.upper(),nome.lower()))\n",
        "print('A quantidade de letras s/ espaço é {}'.format(len(nome)-nome.count(' ')))\n",
        "#print('Seu primeiro nome tem {} letras'.format(nome.find(' ')))\n",
        "separa=nome.split()\n",
        "print('Seu primeiro nome é {} e ele tem {} letras '.format(separa[0], len(separa[0])))"
      ],
      "execution_count": null,
      "outputs": [
        {
          "output_type": "stream",
          "text": [
            "Qual é o seu nome (inteiro):pedro augusto sa silva\n",
            "Seu nome PEDRO AUGUSTO SA SILVA maiusculo fica pedro augusto sa silva\n",
            "A quantidade de letras s/ espaço é 19\n",
            "Seu primeiro nome épedro e ele tem 5 letras \n"
          ],
          "name": "stdout"
        }
      ]
    },
    {
      "cell_type": "code",
      "metadata": {
        "id": "1wbFd1fqU3Oy",
        "colab": {
          "base_uri": "https://localhost:8080/",
          "height": 68
        },
        "outputId": "1d5b6ed8-10c6-4563-f1b8-e6b16777099c"
      },
      "source": [
        "#Desafio23aula9\n",
        "#faça um programa que leia um numero de 0 a 9999 e mostre na tela cada um dos digitos separados\n",
        "#unidade #dezena #centena #Milhar\n",
        "num=int(input('Digite o numero: '))\n",
        "n=str(num)\n",
        "print('Analisando o número {}'.format(num))\n",
        "print('A unidade é {} a dezena {}, centena {} e milhar {}'.format (n[3],n[2],n[1],n[0]))\n"
      ],
      "execution_count": null,
      "outputs": [
        {
          "output_type": "stream",
          "text": [
            "Digite o numero: 1234\n",
            "Analisando o número 1234\n",
            "A unidade é 4 a dezena 3, centena 2 e milhar 1\n"
          ],
          "name": "stdout"
        }
      ]
    },
    {
      "cell_type": "code",
      "metadata": {
        "id": "P5cmFvQbbnCw",
        "colab": {
          "base_uri": "https://localhost:8080/",
          "height": 51
        },
        "outputId": "9faf4a1b-65ac-4118-d80b-66e17c8d350c"
      },
      "source": [
        "#Desafio24aula9\n",
        "#Crie um programa que leia o nome de uma cidade diga se ela começa ou não com o nome “SANTO”\n",
        "cidade=str(input('Em que cidade você nasceu: ')).strip()\n",
        "print(cidade[:5].upper()=='SANTO')\n",
        "\n"
      ],
      "execution_count": null,
      "outputs": [
        {
          "output_type": "stream",
          "text": [
            "Em que cidade você nasceu: SaNTO abreu\n",
            "True\n"
          ],
          "name": "stdout"
        }
      ]
    },
    {
      "cell_type": "code",
      "metadata": {
        "id": "cuuYBAsIk9Oc",
        "colab": {
          "base_uri": "https://localhost:8080/",
          "height": 51
        },
        "outputId": "cb39d39e-b10e-4c96-bc01-b8ba2cbc1440"
      },
      "source": [
        "#Desafio25aula9\n",
        "#Crie um programa que leia o nome de uma pessoa e diga se ela tem “SILVA” no nome.\n",
        "nome=str(input('Digite seu nome: ')).strip()\n",
        "print('Tem silva no seu nome:{}'.format('silva' in nome.lower()))\n",
        "\n"
      ],
      "execution_count": null,
      "outputs": [
        {
          "output_type": "stream",
          "text": [
            "Digite seu nome: antonio Silva\n",
            "Tem silva no seu nome:True\n"
          ],
          "name": "stdout"
        }
      ]
    },
    {
      "cell_type": "code",
      "metadata": {
        "id": "cDrDqePTS7kB"
      },
      "source": [
        "#Desafio26aula9\n",
        "#Faça um programa que leia uma frase pelo teclado e mostre quantas vezes aparece a letra “A”, em que posição ela aparece a primeira vez e em que posição ela aparece a última vez.\n",
        "frase=str(input('Digite uma frase: ')).upper().strip()\n",
        "print('A quantidade de \"a\" é {}'.format(frase.count('A')))\n",
        "print('A primeira letra \"a\" está localizada:{} '.format(frase.find(\"A\")+1))\n",
        "print ('A ultima letra \"a\" está localizad{} '.format(frase.rfind(\"A\")+1))"
      ],
      "execution_count": null,
      "outputs": []
    },
    {
      "cell_type": "code",
      "metadata": {
        "id": "Up5V2Kkcg5kG",
        "colab": {
          "base_uri": "https://localhost:8080/",
          "height": 68
        },
        "outputId": "fa0372ba-8146-47e3-d808-f2f6e6caa94a"
      },
      "source": [
        "#Desafio27aula9\n",
        "#Faça um programa que leia o nome completo de uma pessoa, mostrando em seguida o primeiro e o último nome separadamente.\n",
        "nome=str(input('Digite seu nome: ')).title().strip().split()\n",
        "print('Seu nome é {}'.format(nome[0]))\n",
        "print('Seu sobrenome é {}'.format(nome[-1]))\n"
      ],
      "execution_count": null,
      "outputs": [
        {
          "output_type": "stream",
          "text": [
            "Digite seu nome:             jota dias\n",
            "Seu nome é Jota\n",
            "Seu sobrenome é Dias\n"
          ],
          "name": "stdout"
        }
      ]
    },
    {
      "cell_type": "code",
      "metadata": {
        "id": "2qbbWGcXqVD9"
      },
      "source": [
        "#Aula10\n",
        "tempo=int(input('Quantos anos tem seu carro?'))\n",
        "if tempo<=3:\n",
        "  print('carro novo')\n",
        "else:\n",
        "  print('carro velho')\n",
        "print('--FIM--')\n"
      ],
      "execution_count": null,
      "outputs": []
    },
    {
      "cell_type": "code",
      "metadata": {
        "id": "nrrlshzZVCS1"
      },
      "source": [
        "#CONFUSO\n",
        "tempo=int(input('Quantos anos tem seu carro?'))\n",
        "print('carro novo'if tempo>= else'carro velho')\n",
        "print('--FIM--')"
      ],
      "execution_count": null,
      "outputs": []
    },
    {
      "cell_type": "code",
      "metadata": {
        "id": "Qer12BwnVthy"
      },
      "source": [
        "nome=str(input('Qual é seu nome?'))\n",
        "if nome=='Gustavo':\n",
        "  print('Que bosta de nome')\n",
        "else:\n",
        "  print ('Seu nome é bem melhor que Gustavo')\n",
        "print('Bom dia {}'.format(nome))"
      ],
      "execution_count": null,
      "outputs": []
    },
    {
      "cell_type": "code",
      "metadata": {
        "id": "l4D3f33sXAzI"
      },
      "source": [
        "n1=float(input('Digite a primeira nota: '))\n",
        "n2=float(input('Digite a segunda nota: '))\n",
        "m=(n1+n2)/2\n",
        "print('A sua média foi {:.1f}'.format(m))\n",
        "if m>6.0:\n",
        "  print('Sua média foi boa')\n",
        "else:\n",
        "  print('Bombou!')"
      ],
      "execution_count": null,
      "outputs": []
    },
    {
      "cell_type": "code",
      "metadata": {
        "id": "dKTU1_UfahjR",
        "colab": {
          "base_uri": "https://localhost:8080/",
          "height": 68
        },
        "outputId": "7f8a83bc-a985-47a7-a71c-5982002e4892"
      },
      "source": [
        "#Desafio28aula10\n",
        "#'Escreva um programa que peça para o usuario tentar descobrir um numero de 0 a 5 escolhido pelo computador\\n'\n",
        "#'O programa deverá escrever na tela se o usuário venceu ou perdeu\\n')\n",
        "from random import randint\n",
        "#print(randint(0,9))\n",
        "num=int(input('Advinhe um numero: '))\n",
        "numrand=randint(0,5)\n",
        "print('O numero correto é {}'.format(numrand))\n",
        "if num==numrand:\n",
        "  print('Você acertou')\n",
        "else:\n",
        "  print('Você errou')"
      ],
      "execution_count": null,
      "outputs": [
        {
          "output_type": "stream",
          "text": [
            "Advinhe um numero: 5\n",
            "O numero correto é 4\n",
            "Você errou\n"
          ],
          "name": "stdout"
        }
      ]
    },
    {
      "cell_type": "code",
      "metadata": {
        "id": "m-qVezAj7Vq2"
      },
      "source": [
        "#Desafio29aula10\n",
        "#'Escreva um programa que leia a velocidade de um carro\\n'\n",
        "#'Se ele ultrapassar 80km/h, mostre uma mensagem dizendo que ele foi multado\\n'\n",
        "#'A multa vai custar R$7,00 por cada Km acima do limite.\\n')"
      ],
      "execution_count": null,
      "outputs": []
    },
    {
      "cell_type": "code",
      "metadata": {
        "id": "N7CPoXnQ7rBw"
      },
      "source": [
        "vel=float(input('Digite a velocidade do carro: '))\n",
        "if vel>80:\n",
        "  print('Você passou do limite, receberá multa de {:.1f}'.format((vel-80)*7))\n",
        "else:\n",
        "  print('Tá de boa, sem multa')"
      ],
      "execution_count": null,
      "outputs": []
    },
    {
      "cell_type": "code",
      "metadata": {
        "id": "VzGGKSCFAYWJ"
      },
      "source": [
        "#Desafio30aula10\n",
        "# 'Crie um programa que leia um número inteiro e mostre na tela se ele é par ou impar\\n')\n",
        "num=int(input('Digite um número: '))\n",
        "if (num % 2)==0:\n",
        "  print('PAR')\n",
        "else:\n",
        "  print('IMPAR')"
      ],
      "execution_count": null,
      "outputs": []
    },
    {
      "cell_type": "code",
      "metadata": {
        "id": "u_wXJjJ2CTFY",
        "colab": {
          "base_uri": "https://localhost:8080/",
          "height": 51
        },
        "outputId": "e44475bf-302b-4d34-d189-26fa8e2cbbb2"
      },
      "source": [
        "#Desafio31aula10\n",
        "#'Desenvolva um programa que pergunte a distancia de uma viagem em km.\\n'\n",
        "#'Calcule o preço de uma passagem, cobrando R$0,50 por KM para viagens de até 200km\\n'\n",
        "#'E R$0,45 para viagens mais longes\\n')\n",
        "viagem=int(input('Qual a distancia da sua viagem? ' ))\n",
        "#menos=0.45\n",
        "#mais=0.5\n",
        "if viagem<=200:\n",
        "  print('Sua viagem vai custar {:.2f}'.format(viagem*0.45))\n",
        "else :\n",
        "  print('Como foi mais de 200Km vai custar {:.2f}'.format(viagem*0.5))"
      ],
      "execution_count": null,
      "outputs": [
        {
          "output_type": "stream",
          "text": [
            "Qual a distancia da sua viagem? 220\n",
            "Como foi mais de 200Km vai custar 110.00\n"
          ],
          "name": "stdout"
        }
      ]
    },
    {
      "cell_type": "code",
      "metadata": {
        "id": "wTlJlVseJb1c"
      },
      "source": [
        "#Desafio32aula10\n",
        "#'Faça um programa que leia um ano qualquer e mostre se ele é Bissexto\\n')\n",
        "bis=int(input('Digite um ano para saber se é bissexto: '))\n",
        "if bis%4==0:\n",
        "  print('Ano bissexto')\n",
        "else:\n",
        "  print('Não bissexto')"
      ],
      "execution_count": null,
      "outputs": []
    },
    {
      "cell_type": "code",
      "metadata": {
        "id": "ZGfwJ0yCTLvH"
      },
      "source": [
        "#Desafio33aula10\n",
        "#'Faça um programa que leia três números e mostre qual é o maior e qual é o menor')\n",
        "num1=int(input('Digite o primeiro num: '))\n",
        "num2=int(input('Digite o segundo num: '))\n",
        "num3=int(input('Digite o terceiro num: '))\n",
        "if num1>num2 and num1>num3:\n",
        "  print('Então o {} é o maior número'.format(num1))\n",
        "  if num2>num3:\n",
        "    print('Então o {} é o menor número'.format(num3))\n",
        "  else:\n",
        "    print('Então o {} é o menor número'.format(num2))\n",
        "elif num2>num1 and num2>num3:\n",
        "  print('Então o {} é o maior número'.format(num2))\n",
        "if num1>num3:\n",
        "  print('Então o {} é o menor número'.format(num3))\n",
        "else:\n",
        "    ('Então o {} é o maior número'.format(num1))\n",
        "  elif num3>num1 and num3>num2:\n",
        "  print('Então o {} é o maior número'.format(num3))\n",
        "  if num1>num2:\n",
        "  print('Então o {} é o menor número'.format(num2))\n",
        "  else:\n",
        "    ('Então o {} é o maior número'.format(num1))"
      ],
      "execution_count": null,
      "outputs": []
    },
    {
      "cell_type": "code",
      "metadata": {
        "id": "Hdd57fsMTtrE"
      },
      "source": [
        "#Desafio34aula10\n",
        "#'Escreva um programa que pergunte o salário de um funcionário e calcule o valor de seu aumento\\n'\n",
        "#'Para salário superiores a R$1.250,00, calcule um aumento de 10%\\n'\n",
        "#'Para os inferiores ou iguais o aumento é de 15%')\n",
        "salario=float(input('Digite seu salario,por favor '))\n",
        "if salario>=1250:\n",
        "  print('Você teve um aumento de 10%, total {}{}{}'.format((salario*0.10)+salario))\n",
        "else:\n",
        "    print('Você teve um aumento de 15%, total {}'.format((salario*0.15)+salario))"
      ],
      "execution_count": null,
      "outputs": []
    },
    {
      "cell_type": "code",
      "metadata": {
        "id": "LLw0Hns4j2bJ",
        "colab": {
          "base_uri": "https://localhost:8080/",
          "height": 34
        },
        "outputId": "89d563ea-f5e4-4e67-92b8-2d1aba3a5f15"
      },
      "source": [
        "\n",
        "nome='Vinicius'\n",
        "print('Hola, muito prazer em te conhecer, {}{}{}!!!'.format('\\033[4;34m',nome,'\\033[m'))\n"
      ],
      "execution_count": null,
      "outputs": [
        {
          "output_type": "stream",
          "text": [
            "Hola, muito prazer em te conhecer, \u001b[4;34mVinicius\u001b[m!!!\n"
          ],
          "name": "stdout"
        }
      ]
    },
    {
      "cell_type": "code",
      "metadata": {
        "id": "IUqWns2T3-6g"
      },
      "source": [
        "#Aula12\n",
        "nome=str(input('Qual é o seu nome? '))\n",
        "if nome=='Gustavo':\n",
        "  print('Que nome bonito')\n",
        "elif nome=='Pedro' or nome=='Maria' or nome=='Paulo':\n",
        "  print('Seu nome é bem popular no Brasil')\n",
        "elif nome in 'Ana Cláudia Jéssica Juliana':\n",
        "  print('Belo Nome Feminino')\n",
        "else:\n",
        "  print('Seu nome é bem normal!')\n",
        "print('Tenha um bom dia {}'.format(nome))\n"
      ],
      "execution_count": null,
      "outputs": []
    },
    {
      "cell_type": "code",
      "metadata": {
        "id": "PyZycksKC4z5",
        "colab": {
          "base_uri": "https://localhost:8080/",
          "height": 85
        },
        "outputId": "29b61568-3278-4ae9-de7b-28f389d178d7"
      },
      "source": [
        "#Desafio036\n",
        "casa=float(input('Digite o valor da casa: '))\n",
        "salario=float(input('Digite o valor do salario: '))\n",
        "anos=int(input('Digite em quantos anos você vai pagar: '))\n",
        "prest=(casa/(12*anos))\n",
        "if prest>salario*0.3:\n",
        "  print('Emprestimo negado, pois a prestação saira {:.2f}'.format(prest))\n",
        "else:\n",
        "  print('Emprestimo aprovado, com a prestação de {:.2f}'.format(prest))"
      ],
      "execution_count": null,
      "outputs": [
        {
          "output_type": "stream",
          "text": [
            "Digite o valor da casa: 120000\n",
            "Digite o valor do salario: 5000\n",
            "Digite em quantos anos você vai pagar: 10\n",
            "Emprestimo aprovado, com a prestação de 1000.00\n"
          ],
          "name": "stdout"
        }
      ]
    },
    {
      "cell_type": "code",
      "metadata": {
        "id": "8dx5Q4QnT8si"
      },
      "source": [
        "#Desafio036bonitinho\n",
        "casa=float(input('Digite o valor da casa: R$ '))\n",
        "salario=float(input('Digite o valor do salario: R$ '))\n",
        "anos=int(input('Digite em quantos anos você vai pagar: '))\n",
        "prest=casa/(anos*12)\n",
        "print('Para pagar uma casa de R$ {:.2f} em anos {} anos'.format(casa,anos),end=' ')\n",
        "print('a prestação será de R${:.2f}'.format(prest))\n",
        "if prest<salario*0.3:\n",
        "  print('Emprestimo concedido')\n",
        "else:\n",
        "  print('Emprestimo Negado')"
      ],
      "execution_count": null,
      "outputs": []
    },
    {
      "cell_type": "code",
      "metadata": {
        "id": "jDifCB6EXd6P"
      },
      "source": [
        "#Desafio037-FAZER DEPOIS"
      ],
      "execution_count": null,
      "outputs": []
    },
    {
      "cell_type": "code",
      "metadata": {
        "id": "lIVbHcrIbYkH",
        "colab": {
          "base_uri": "https://localhost:8080/",
          "height": 68
        },
        "outputId": "b7e72a2c-a8c6-4e64-d26c-bc53ee974641"
      },
      "source": [
        "#Desafio038\n",
        "num1=int(input('Digite o primeiro número: '))\n",
        "num2=int(input('Digite o segundo número: '))\n",
        "if num1>num2:\n",
        "  print('{} maior que o segundo'.format(num1))\n",
        "elif num2>num1:\n",
        "  print('{} maior que o primeiro'.format(num2))\n",
        "else:\n",
        "  print('{} e {} são iguais'.format(num1,num2))"
      ],
      "execution_count": null,
      "outputs": [
        {
          "output_type": "stream",
          "text": [
            "Digite o primeiro número: 55\n",
            "Digite o segundo número: 51\n",
            "55 maior que o segundo\n"
          ],
          "name": "stdout"
        }
      ]
    },
    {
      "cell_type": "code",
      "metadata": {
        "id": "gBK_q1h_hcHJ"
      },
      "source": [
        "#Desafio039refazer\n",
        "from datetime import date\n",
        "atual=date.today().year\n",
        "nasc=int(input('Ano de nascimento: '))\n",
        "idade=atual-nasc\n",
        "if idade==18:\n",
        "  print('Vc tem que se alistar')\n",
        "elif idade<18:\n",
        "  print('Vc ainda não precisa se alistar')\n",
        "elif idade>18:\n",
        "  print('Vc se alistou?')\n",
        "\n",
        "\n"
      ],
      "execution_count": null,
      "outputs": []
    },
    {
      "cell_type": "code",
      "metadata": {
        "id": "0JHlT7Nrf0gm",
        "colab": {
          "base_uri": "https://localhost:8080/",
          "height": 136
        },
        "outputId": "e65ff824-9248-4b2b-e917-b0fe8f772836"
      },
      "source": [
        "energia=float(input('Digite a quantidade de Kwh:'))\n",
        "print('Digite o tipo de instalação: \\n [1]- Residências \\n [2]- Comercial \\n [3]- Indutrial \\n ')\n",
        "tipo=input('Tipo de instalação: ')\n",
        "if tipo==1:\n",
        "  if energia<=500:\n",
        "    conta=energia*0.4\n",
        "  else:\n",
        "    conta=energia*0.65\n",
        "  print('Sua conta será de {}'.format(conta))"
      ],
      "execution_count": null,
      "outputs": [
        {
          "output_type": "stream",
          "text": [
            "Digite a quantidade de Kwh:500\n",
            "Digite o tipo de instalação: \n",
            " [1]- Residências \n",
            " [2]- Comercial \n",
            " [3]- Indutrial \n",
            " \n",
            "Tipo de instalação: 1\n"
          ],
          "name": "stdout"
        }
      ]
    },
    {
      "cell_type": "code",
      "metadata": {
        "id": "fr8Cx8oMYjMC",
        "colab": {
          "base_uri": "https://localhost:8080/",
          "height": 68
        },
        "outputId": "f53f2cf8-3935-4254-b4b9-5f19e086980f"
      },
      "source": [
        "#Desafio040\n",
        "nota1=float(input('Digite a primeira nota: '))\n",
        "nota2=float(input('Digite a segunda nota: '))\n",
        "media=(nota1+nota2)/2\n",
        "if media>7.0:\n",
        "  print('APROVADO')\n",
        "elif media >=5.0 and media<=6.9:\n",
        "  print('RECUPERAÇÃO')\n",
        "else:\n",
        "  print('REPROVADO') "
      ],
      "execution_count": null,
      "outputs": [
        {
          "output_type": "stream",
          "text": [
            "Digite a primeira nota: 2\n",
            "Digite a segunda nota: 4\n",
            "REPROVADO\n"
          ],
          "name": "stdout"
        }
      ]
    },
    {
      "cell_type": "code",
      "metadata": {
        "id": "AhTGFf3xb7Uk"
      },
      "source": [
        "#Desafio041\n",
        "nasc=int(input('Digite seu ano de nascimento: '))\n",
        "atual=date.today().year\n",
        "total=atual-nasc\n",
        "if total<=9:\n",
        "  print('MIRIM')\n",
        "elif total<=14:\n",
        "  print('INFANTIL')\n",
        "elif total<=19:\n",
        "  print('JUNIOR')\n",
        "elif total<=25:\n",
        "  print('SENIOR')\n",
        "else:\n",
        "  print('MASTER')"
      ],
      "execution_count": null,
      "outputs": []
    },
    {
      "cell_type": "code",
      "metadata": {
        "id": "1iHAB_e7f_KI"
      },
      "source": [
        "#Desafio042\n",
        "r1=float(input('Primeiro segmento: '))\n",
        "r2=float(input('Segundo Segmento: '))\n",
        "r3=float(input('Terceiro Segmento: '))\n",
        "if r1<r2+r3 and r2<r1+r3 and r3<r1+r2:\n",
        "  print('Os segmentos acima PODEM FORMAR um trinagulo', end=' ')\n",
        "  if r1==r2==r3:\n",
        "     print('EQUILATERO')\n",
        "  elif r1!=r2!=r3!=r1:\n",
        "    print('ESCALENO')\n",
        "  else:\n",
        "    print('ISOSCELES')\n",
        "else:\n",
        "  print('Os segmentos acima não podem formar um triangulo')"
      ],
      "execution_count": null,
      "outputs": []
    },
    {
      "cell_type": "code",
      "metadata": {
        "id": "6El-QVhr86cv"
      },
      "source": [
        "#Desafio043\n",
        "peso=float(input('Digite seu peso:'))\n",
        "altura=float(input('Digite sua altura em m: '))\n",
        "imc=peso/(altura**2)\n",
        "\n",
        "if imc<=18.5:\n",
        "  print('O seu IMC é {:.1f} e está ABAIXO DO PESO'.format(imc))\n",
        "elif imc<25:\n",
        "  print('O seu IMC é {:.1f} e está PESO IDEAL'.format(imc))\n",
        "elif imc<30:\n",
        "  print('O seu IMC é {:.1f} e está SOBREPRESO'.format(imc))\n",
        "elif imc<40:\n",
        "  print('O seu IMC é {:.1f} e está OBESIDADE'.format(imc))\n",
        "else:\n",
        "  print('O seu IMC é {:.1f} e está OBESIDADE MORBIDA'.format(imc))"
      ],
      "execution_count": null,
      "outputs": []
    },
    {
      "cell_type": "code",
      "metadata": {
        "id": "4XpiJRCRBnIm",
        "colab": {
          "base_uri": "https://localhost:8080/",
          "height": 136
        },
        "outputId": "1361f713-5de0-43e8-9db3-2653e26d247b"
      },
      "source": [
        "#Desafio044\n",
        "valor=float(input('Digite o valor do produto:R$ '))\n",
        "pag=input('Escolha a forma de pagamento:\\n [1]-À Vista dinheiro/cheque:10% \\n [2]-À Vista no cartão:5% \\n [3]-em até 2x no cartão: Preço normal \\n [4]-3x ou  mais no cartão: 20% de juros\\n')\n",
        "if pag==1:\n",
        "  print('O Valor À Vista dinheiro/cheque com desconto de 10%, deu R${}'.format(valor-(valor*0.10)))\n",
        "elif pag==2:\n",
        "  print('À Vista no cartão:5%, deu R${}'.format(valor-(valor*0.05)))\n",
        "elif pag==3:\n",
        "  print('em até 2x no cartão: Preço normal {}'.format(valor))\n",
        "elif pag==4:\n",
        "  print('3x ou  mais no cartão: 20% de juros,total {}'.format(valor+(valor*0.30)))"
      ],
      "execution_count": null,
      "outputs": [
        {
          "output_type": "stream",
          "text": [
            "Digite o valor do produto:R$ 100\n",
            "Escolha a forma de pagamento:\n",
            " [1]-À Vista dinheiro/cheque:10% \n",
            " [2]-À Vista no cartão:5% \n",
            " [3]-em até 2x no cartão: Preço normal \n",
            " [4]-3x ou  mais no cartão: 20% de juros\n",
            "1\n"
          ],
          "name": "stdout"
        }
      ]
    },
    {
      "cell_type": "code",
      "metadata": {
        "id": "4fiYVtXC9349"
      },
      "source": [
        "#Desafio044-ARRUMADINHA\n",
        "preço=float(input('Digite o valor do produto:R$ '))\n",
        "print('Escolha a forma de pagamento:\\n [1]-À Vista dinheiro/cheque:10% \\n [2]-À Vista no cartão:5% \\n [3]-em até 2x no cartão: Preço normal \\n [4]-3x ou  mais no cartão: 20% de juros\\n')\n",
        "opção=int(input('Qual é a opção? '))\n",
        "if opção==1:\n",
        "  total=preço-(preço*0.10) #aqui onde o calculo é feito\n",
        "elif opção==2:\n",
        "  total=preço-(preço*0.05)\n",
        "elif opção==3:\n",
        "  total=preço\n",
        "  parcela=total/2\n",
        "  print('Sua compra vai  ser parcelada 2x e vai sair por {} SEM JUROS'.format(preço))\n",
        "elif opção==4:\n",
        "  total=preço+(preço*0.20)\n",
        "  totparc=int(input('Quantas parcelas?:'))\n",
        "  parcela=total/totparc\n",
        "  print('Sua compra será parcelada em {}x de tanto {:.2f} COM JUROS'.format(totparc,parcela))\n",
        "else:\n",
        "  total=0\n",
        "  print('OPÇÃO INVALIDA DE PAGAMENTO.TENTE NOVAMENTE')\n",
        "print('Sua compra de R$ {:.2f} vai custar R${:.2f} no final'.format(preço,total))\n"
      ],
      "execution_count": null,
      "outputs": []
    },
    {
      "cell_type": "code",
      "metadata": {
        "id": "jTvaIW_vh1DJ"
      },
      "source": [
        "#Desafio045"
      ],
      "execution_count": null,
      "outputs": []
    },
    {
      "cell_type": "code",
      "metadata": {
        "id": "eZbjdfApCpZB"
      },
      "source": [
        "#Curso 13\r\n",
        "for c in range (6,0,-1):\r\n",
        "  print(c)\r\n",
        "print('FIM')"
      ],
      "execution_count": null,
      "outputs": []
    },
    {
      "cell_type": "code",
      "metadata": {
        "id": "QKmYwS1xPe1O"
      },
      "source": [
        "i=int(input('Inicio: '))\r\n",
        "f=int(input('Fim: '))\r\n",
        "p=int(input('Passo: '))\r\n",
        "for c in range (i,f+1,p):\r\n",
        "  print(c)\r\n",
        "print('TENDENDO')\r\n"
      ],
      "execution_count": null,
      "outputs": []
    },
    {
      "cell_type": "code",
      "metadata": {
        "id": "5m46bfZpQ0al"
      },
      "source": [
        "for c in range(0,3):\r\n",
        "  n=int(input('Digite um valor: '))      #comando dentro do for\r\n",
        "  if n==10 or n==8:\r\n",
        "    print('opa')\r\n",
        "print('fim')"
      ],
      "execution_count": null,
      "outputs": []
    },
    {
      "cell_type": "code",
      "metadata": {
        "id": "Q0Vait2-hPq4"
      },
      "source": [
        "s=0\r\n",
        "for c in range(0,5):\r\n",
        "  n=int(input('Digite um valor: '))\r\n",
        "  s=s+n\r\n",
        "print('A somatoria deu {}'.format(s))"
      ],
      "execution_count": null,
      "outputs": []
    },
    {
      "cell_type": "code",
      "metadata": {
        "id": "Ght28mmuhhxq"
      },
      "source": [
        "#ex46\r\n",
        "#faça um programa que mostre na tela uma contagem regressiva para o estouro de fogos de artificil, indo de 10 até 0, com uma pausa de 1 segundo entres ele\r\n",
        "from time import sleep\r\n",
        "for c in range (10,-1,-1):\r\n",
        "  print(c)\r\n",
        "  sleep(1)\r\n",
        "print('Happy new year')"
      ],
      "execution_count": null,
      "outputs": []
    },
    {
      "cell_type": "code",
      "metadata": {
        "id": "EgdJ_6NDnNhO"
      },
      "source": [
        "#47\r\n",
        "#Crie um programa que mostre na tela todos os números que estão no intervalo entre 1 e 50\r\n",
        "for c in range(2,51,2):\r\n",
        "    print(c)"
      ],
      "execution_count": null,
      "outputs": []
    },
    {
      "cell_type": "code",
      "metadata": {
        "id": "EE4Vxa28qQgD"
      },
      "source": [
        "\"\"\"48\r\n",
        "Faça um programa que calcule a soma entre todos os números impares que são multiplos de três\r\n",
        "e que se encontram no intervalo de 1 até 500\r\n",
        "\"\"\"\r\n",
        "soma=0\r\n",
        "cont=0\r\n",
        "for c in range(1,501,2):\r\n",
        "  if c%3==0:\r\n",
        "    cont=cont+1\r\n",
        "    soma=soma+c\r\n",
        "print('{},{}'.format(soma,cont))\r\n"
      ],
      "execution_count": null,
      "outputs": []
    },
    {
      "cell_type": "code",
      "metadata": {
        "id": "MjGFsSCByREi"
      },
      "source": [
        "\"\"\"\r\n",
        "049 Mostre a tabuada de um número que o usuárop escolher, só que agora utilizando um laço FOR\r\n",
        "\"\"\"\r\n",
        "n=int(input('Digite um número da tabulada de 1 a 10: '))\r\n",
        "for c in range(1,11):\r\n",
        "  tab=c*n\r\n",
        "  print('{} x {}={}'.format(n,c,tab))"
      ],
      "execution_count": null,
      "outputs": []
    },
    {
      "cell_type": "code",
      "metadata": {
        "id": "XoyxceNF139J"
      },
      "source": [
        "\"\"\"\r\n",
        "050 Desenvolva um programa que leia seis numeros inteiros e mostre a soma apenas daqueles que forem pares. Se o valor digitado for impar, desconsere-o\r\n",
        "\"\"\"\r\n",
        "soma=0\r\n",
        "cont=0\r\n",
        "for c in range(1,7): \r\n",
        "  n=int(input('Digite um numero: '))\r\n",
        "  if n%2==0:\r\n",
        "    cont=cont+1\r\n",
        "    soma=soma+n\r\n",
        "print('{},{}'.format(cont,soma))\r\n"
      ],
      "execution_count": null,
      "outputs": []
    },
    {
      "cell_type": "code",
      "metadata": {
        "id": "SOkDUEiL8VfP"
      },
      "source": [
        "\"\"\"\r\n",
        "051 Desenvolva um programa que leia o primeiro termo e a razão de uma PA. No final, mostre os 10 primeiros termos dessa progressão.\r\n",
        "\"\"\"\r\n",
        "soma=0\r\n",
        "n1=int(input('Digite o primeiro termo: '))\r\n",
        "rz=int(input('Digite a razão: '))\r\n",
        "for c in range(1,11):\r\n",
        "  soma=rz\r\n",
        "  print('{}'.format(n1+rz))"
      ],
      "execution_count": null,
      "outputs": []
    },
    {
      "cell_type": "code",
      "metadata": {
        "id": "HdVcVHxbHMTq"
      },
      "source": [
        "\"\"\"\r\n",
        "52-faça um programa que leia um número inteiro e diga se ele é ou não um número primo\r\n",
        "\"\"\"\r\n",
        "n=int(input('Digite um número: '))\r\n",
        "for c in (1,n+1):\r\n",
        "  if n%c==0:\r\n",
        "    print('\\033[33m')\r\n",
        "  else:\r\n",
        "    print('\\033[31m')\r\n",
        "  print('{}'.format (c))"
      ],
      "execution_count": null,
      "outputs": []
    },
    {
      "cell_type": "code",
      "metadata": {
        "id": "BYPST2_m90d-",
        "colab": {
          "base_uri": "https://localhost:8080/"
        },
        "outputId": "4d63812e-8daf-4941-f87c-fed8d6c0a9ff"
      },
      "source": [
        "\"\"\"53\"\"\"\r\n",
        "frase = str(input('Digite uma frase: ')).strip().upper()       #não ter problemas na frase\r\n",
        "palavras= frase.split()   #aqui a frase fica assim [palavras1,palavra2] separa a lista\r\n",
        "junto=''.join(palavras)   #junta as palavras\r\n",
        "inverso=''\r\n",
        "for letra in range(len(junto)-1,-1,-1):\r\n",
        "  inverso=inverso+junto[letra]\r\n",
        "print(junto,inverso)"
      ],
      "execution_count": null,
      "outputs": [
        {
          "output_type": "stream",
          "text": [
            "Digite uma frase: sns\n",
            "SNS SNS\n"
          ],
          "name": "stdout"
        }
      ]
    },
    {
      "cell_type": "code",
      "metadata": {
        "id": "JoJ3TBhf_ftT"
      },
      "source": [
        "\"\"\"54\"\"\"\r\n",
        "\"Crie um programa que leia o ano de nascimento de sete pessoas. No final, mostre quantas pessoas ainda não atingiram a maioridade e quantas já são maiores\"\r\n",
        "ano=2021\r\n",
        "x=0\r\n",
        "z=0\r\n",
        "for c in range(1,8):\r\n",
        "  n=int(input('{}-Digite o ano de nascimento: '.format(c)))\r\n",
        "  idade=ano-n\r\n",
        "  if idade<18:\r\n",
        "    x=x+1\r\n",
        "  else:\r\n",
        "    z=z+1\r\n",
        "print(x,z)\r\n"
      ],
      "execution_count": null,
      "outputs": []
    },
    {
      "cell_type": "code",
      "metadata": {
        "id": "fVbNWgnVLSWZ"
      },
      "source": [
        "\"\"\"55\"\"\"\r\n",
        "\"faça um programa que leia o peso de cinco pessoas. No final, mostre qual foi o maior e o menor peso lidos\"\r\n",
        "maior=-90000\r\n",
        "menor=10000\r\n",
        "for c in range(1,6):\r\n",
        "  n=float(input('{}-Digite o peso: '.format(c)))\r\n",
        "  if maior<n:\r\n",
        "    maior=n\r\n",
        "  elif menor>n:\r\n",
        "    menor=n\r\n",
        "print(maior,menor)"
      ],
      "execution_count": null,
      "outputs": []
    },
    {
      "cell_type": "code",
      "metadata": {
        "id": "gg7rp2caLr-a"
      },
      "source": [
        "\"\"\"56\"\"\"\r\n",
        "\"\"\"Desenvolva um programa que leia o nome, idade e sexo de 4 pessoas. No final do program, mostre: \r\n",
        "-A média de idades do grupo OK,\r\n",
        "-Qual é o nome do homem mais velho \r\n",
        "-Quantas mulheres tem menos de 20 anos\"\"\"\r\n",
        "x=0\r\n",
        "soma=0\r\n",
        "maior=-90000\r\n",
        "\r\n",
        "for c in range (1,4):\r\n",
        "  nome=str(input('Digite o seu nome: '))\r\n",
        "  idade=int(input('Digite sua idade: '))\r\n",
        "  soma=soma+idade\r\n",
        "  sexo=str(input('Digite o sexo: '))\r\n",
        "  if sexo=='m':\r\n",
        "    if maior<idade:\r\n",
        "      maior=idade\r\n",
        "      maior_nome=nome\r\n",
        "  if sexo=='f':\r\n",
        "    if idade<20:\r\n",
        "      x=x+1\r\n",
        "  \r\n",
        "print('A idade média do grupo é {}, o {} tem a maior idade {} e a quantidade de vezes que apareceu mulheres abaixo de 20 é {}' .format(soma/4,maior_nome,maior,x))\r\n",
        "\r\n",
        "\r\n"
      ],
      "execution_count": null,
      "outputs": []
    },
    {
      "cell_type": "code",
      "metadata": {
        "colab": {
          "base_uri": "https://localhost:8080/"
        },
        "id": "ZjtGpiC4pbeJ",
        "outputId": "de76b9b5-d8e6-4b36-8dc4-bebbada1a24b"
      },
      "source": [
        "#cap14\r\n",
        "'''faça um programa que leia o sexo de uma pessoa, mas so aceita os valores M OU F. Caso esteja errado, \r\n",
        "peça a digitação novamente até ter um valor correto'''\r\n",
        "\r\n",
        "sexo=str(input('Digite o sexo: ')).strip().upper()[0]\r\n",
        "while sexo!='M' and sexo!='F':\r\n",
        "    print('Escreva novamente em maiúsculo')\r\n",
        "    sexo=str(input('Digite o sexo: ')).strip().upper()l"
      ],
      "execution_count": null,
      "outputs": [
        {
          "output_type": "stream",
          "text": [
            "Digite o sexo: l\n",
            "Escreva novamente em maiúsculo\n",
            "Digite o sexo: \n",
            "Escreva novamente em maiúsculo\n",
            "Digite o sexo: m\n"
          ],
          "name": "stdout"
        }
      ]
    },
    {
      "cell_type": "code",
      "metadata": {
        "colab": {
          "base_uri": "https://localhost:8080/"
        },
        "id": "6WFRZ_Sv83Bl",
        "outputId": "d5c2d7c0-d2fe-42fa-8c18-13837750c742"
      },
      "source": [
        "sexo=str(input('Digite seu sexo: ')).strip().upper()[0]\r\n",
        "while sexo not in 'MnFf':\r\n",
        "  sexo=str(input('Dados inválidos, digite novamente'))\r\n",
        "print(sexo)"
      ],
      "execution_count": null,
      "outputs": [
        {
          "output_type": "stream",
          "text": [
            "Digite seu sexo: m\n",
            "M\n"
          ],
          "name": "stdout"
        }
      ]
    },
    {
      "cell_type": "code",
      "metadata": {
        "id": "r9ERtn4b_Mq4"
      },
      "source": [
        "'''58'''\r\n",
        "\"\"\"Melhore o desafio 28 onde o computador vai pensar em um numero entre 0 a 10. Só que agora o jogador vai tentar advinhar até acertar, \r\n",
        "mostrando no final quantos palpites foram necessários para vencer\"\"\"\r\n",
        "from random import randint\r\n",
        "aleatorio=randint(1,11)\r\n",
        "x=0\r\n",
        "cab=0\r\n",
        "while cab!=aleatorio:\r\n",
        "    n=int(input('Digite o número de 1 a 10: '))\r\n",
        "    x=x+1\r\n",
        "    if n==aleatorio:\r\n",
        "      cab=aleatorio\r\n",
        "print('Acertou em {} vezes'.format(cab,x))"
      ],
      "execution_count": null,
      "outputs": []
    },
    {
      "cell_type": "code",
      "metadata": {
        "id": "v7VroSyltNlt"
      },
      "source": [
        "'''59 - Crie um programa que leia dos valores e mostre um menu na 1-somar 2-multiplicador 3-maior 4-novos números 5-sair do programa'''\r\n",
        "n1=int(input('Digite o primeiro número: '))\r\n",
        "n2=int(input('Digite o segundo número: '))\r\n",
        "print('Digite a forma que queira calcular...')\r\n",
        "menu=0\r\n",
        "\r\n",
        "while menu !=5:\r\n",
        "  menu=int(input('[1]-Somar\\n[2]-Multiplicador\\n[3]-Maior número\\n[4]-Novos Números\\n[5]-Sair do programa\\n'))\r\n",
        "  print('---------')\r\n",
        "  if menu==1:\r\n",
        "    soma=n1+n2\r\n",
        "    print('A soma é {}'.format(soma))\r\n",
        "    print('Digite a forma que queira calcular...')\r\n",
        "  \r\n",
        "  elif menu==2:\r\n",
        "    multi=n1*n2\r\n",
        "    print('A multiplicação é {}'.format(multi))\r\n",
        "    print('Digite a forma que queira calcular...')\r\n",
        "  \r\n",
        "  elif menu==3:\r\n",
        "    if n1>n2:\r\n",
        "      maior=n1\r\n",
        "    else:\r\n",
        "      maior=n2\r\n",
        "    print(maior)\r\n",
        "    print('Digite a forma que queira calcular...')\r\n",
        "  \r\n",
        "  elif menu==4:\r\n",
        "    n1=int(input('Digite o primeiro número: '))\r\n",
        "    n2=int(input('Digite o segundo número: '))\r\n",
        "    print('Digite a forma que queira calcular...')\r\n",
        "  \r\n",
        "  elif menu==5:\r\n",
        "    print('Acabou o programa')\r\n",
        "      \r\n",
        "print('Acabou')\r\n"
      ],
      "execution_count": null,
      "outputs": []
    },
    {
      "cell_type": "code",
      "metadata": {
        "id": "QWD6pVIlP4vb"
      },
      "source": [
        "\"\"\"\"60 faça um programa que leia um número qualquer e mostre o seu fatorial\"\"\"\r\n",
        "n=int(input('Digite o número para saber o fatorial ! :' ))\r\n",
        "fat=1\r\n",
        "c=1\r\n",
        "while c<=n:\r\n",
        "  fat=fat*c\r\n",
        "  c=c+1\r\n",
        "  \r\n",
        "print(fat)"
      ],
      "execution_count": null,
      "outputs": []
    },
    {
      "cell_type": "code",
      "metadata": {
        "id": "Ca2Rq3WAZ1ZG"
      },
      "source": [
        "\"\"\"\"64 crie um programa que leia vários números pelo teclado. O programa só vai parar quando o usuarop digitar o valor 999, que é a condição de parada. no final mostre quantos numeros foram digitados e qual foi a soma entre eles\"\"\"\r\n",
        "soma=c=0\r\n",
        "\r\n",
        "while c!=999:\r\n",
        "  n=int(input('Digite o número:'))\r\n",
        "  if n==999:\r\n",
        "    break\r\n",
        "  soma=soma+n\r\n",
        "  c=c+1\r\n",
        "print(soma,c)\r\n"
      ],
      "execution_count": null,
      "outputs": []
    },
    {
      "cell_type": "code",
      "metadata": {
        "id": "eKiBRZTAcur-"
      },
      "source": [
        "\"\"\"65 crie um programa que leai vários números inteiros pelo teclado. no final da execução, mostre a média entres todos os valores e qual foi o maio e o menor valores lidos. o programa\r\n",
        "deve perguntar ao usuario se ele quer ou não continuar a digitar\"\"\"\r\n",
        "menor=-9999\r\n",
        "maior=9999\r\n",
        "soma=c=0\r\n",
        "resp='S'\r\n",
        "while resp in 'Ss':\r\n",
        "  n=int(input('Digite um número: '))\r\n",
        "  soma=soma+n\r\n",
        "  if n<maior:\r\n",
        "    maior=n\r\n",
        "  elif n>menor:\r\n",
        "    menor=n\r\n",
        "  resp=str(input('Quer continuar? S/N ')).upper().strip()[0]\r\n",
        "  c=c+1\r\n",
        "print(' a média é {}, o menor número é {}, maior número é {}'.format(soma/n,maior,menor))"
      ],
      "execution_count": null,
      "outputs": []
    },
    {
      "cell_type": "code",
      "metadata": {
        "colab": {
          "base_uri": "https://localhost:8080/"
        },
        "id": "KRctbWJTMsej",
        "outputId": "edbd25f4-bbf6-4a5c-fc3c-b19ad0a738c0"
      },
      "source": [
        " valores=[]\r\n",
        " valores.append(5)\r\n",
        " valores.append(9)\r\n",
        " valores.append(4)\r\n",
        "\r\n",
        " for c, v in enumerate(valores):\r\n",
        "   print('Na posição {} encontrei o valor {}'.format(c+1,v))\r\n",
        "print('Cheguei ao final da lista')"
      ],
      "execution_count": null,
      "outputs": [
        {
          "output_type": "stream",
          "text": [
            "Na posição 1 encontrei o valor 5\n",
            "Na posição 2 encontrei o valor 9\n",
            "Na posição 3 encontrei o valor 4\n",
            "Cheguei ao final da lista\n"
          ],
          "name": "stdout"
        }
      ]
    },
    {
      "cell_type": "code",
      "metadata": {
        "colab": {
          "base_uri": "https://localhost:8080/"
        },
        "id": "-sk_A2nvN3Ug",
        "outputId": "37ee4384-0c05-4e8f-d558-7f731630a0e3"
      },
      "source": [
        " valores=[]\r\n",
        " for cont in range(0,5):\r\n",
        "   valores.append(int(input('Digite um valor: ')))\r\n",
        "\r\n",
        " for c, v in enumerate(valores):\r\n",
        "   print('Na posição {} encontrei o valor {}'.format(c+1,v))\r\n",
        "print('Cheguei ao final da lista')"
      ],
      "execution_count": null,
      "outputs": [
        {
          "output_type": "stream",
          "text": [
            "Digite um valor: 10\n",
            "Digite um valor: 40\n",
            "Digite um valor: 50\n",
            "Digite um valor: 90\n",
            "Digite um valor: 100\n",
            "Na posição 1 encontrei o valor 10\n",
            "Na posição 2 encontrei o valor 40\n",
            "Na posição 3 encontrei o valor 50\n",
            "Na posição 4 encontrei o valor 90\n",
            "Na posição 5 encontrei o valor 100\n",
            "Cheguei ao final da lista\n"
          ],
          "name": "stdout"
        }
      ]
    },
    {
      "cell_type": "code",
      "metadata": {
        "id": "JkQd0I_5PAV6"
      },
      "source": [
        "a=[2,3,4,7]\r\n",
        "b=a [:]     #cria uma copia\r\n",
        "b[2]=8      #o python cria uma ligação entre as listas\r\n",
        "print(a)\r\n",
        "print(b)"
      ],
      "execution_count": null,
      "outputs": []
    },
    {
      "cell_type": "code",
      "metadata": {
        "colab": {
          "base_uri": "https://localhost:8080/"
        },
        "id": "LKipU53QRM32",
        "outputId": "90641cab-e466-45e7-a2c1-930e2bfb8601"
      },
      "source": [
        "#faça um program que leia 5 valores numeros e gardues os em uma lista. \r\n",
        "#No final, mostre qual foi o vaior e o menor valor digitado e as suas respectivas posições\r\n",
        "valores=[]\r\n",
        "max=-90000\r\n",
        "min=10000\r\n",
        "for cont in range(0,5):\r\n",
        "  valores.append(int(input('Digite o número: ')))\r\n",
        "for c, v in enumerate(valores):\r\n",
        "   print('Na posição {} encontrei o valor {}'.format(c,v))\r\n",
        "print('Cheguei ao final da lista')\r\n"
      ],
      "execution_count": null,
      "outputs": [
        {
          "output_type": "stream",
          "text": [
            "Digite o número: 10\n",
            "Digite o número: 20\n",
            "Digite o número: 30\n",
            "Digite o número: 40\n",
            "Digite o número: 50\n",
            "Na posição 0 encontrei o valor 10\n",
            "Na posição 1 encontrei o valor 20\n",
            "Na posição 2 encontrei o valor 30\n",
            "Na posição 3 encontrei o valor 40\n",
            "Na posição 4 encontrei o valor 50\n",
            "Cheguei ao final da lista\n"
          ],
          "name": "stdout"
        }
      ]
    },
    {
      "cell_type": "code",
      "metadata": {
        "id": "JlNH2NJBS6PA"
      },
      "source": [
        ""
      ],
      "execution_count": null,
      "outputs": []
    }
  ]
}